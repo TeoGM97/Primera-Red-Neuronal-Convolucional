{
 "cells": [
  {
   "cell_type": "markdown",
   "id": "ed19e88d",
   "metadata": {
    "papermill": {
     "duration": 0.004991,
     "end_time": "2023-01-19T12:02:57.035711",
     "exception": false,
     "start_time": "2023-01-19T12:02:57.030720",
     "status": "completed"
    },
    "tags": []
   },
   "source": [
    "Las redes Neuronales Convolucionales se especializan en la deteccion y visualizacion de imagenes.\n",
    "\n",
    "Estas redes intentan simular lo que hace la vision y analisis humano para reconocer diferentes formas, texturas, colores, bordes, patrones, etc.\n"
   ]
  },
  {
   "cell_type": "code",
   "execution_count": 1,
   "id": "2bdc9f40",
   "metadata": {
    "execution": {
     "iopub.execute_input": "2023-01-19T12:02:57.045434Z",
     "iopub.status.busy": "2023-01-19T12:02:57.044860Z",
     "iopub.status.idle": "2023-01-19T12:03:03.308729Z",
     "shell.execute_reply": "2023-01-19T12:03:03.307726Z"
    },
    "papermill": {
     "duration": 6.271586,
     "end_time": "2023-01-19T12:03:03.311239",
     "exception": false,
     "start_time": "2023-01-19T12:02:57.039653",
     "status": "completed"
    },
    "tags": []
   },
   "outputs": [],
   "source": [
    "import tensorflow as tf\n",
    "from tensorflow.keras.datasets import fashion_mnist\n",
    "from tensorflow.keras.layers import Conv2D, Dropout, MaxPooling2D, Flatten, Dense\n",
    "import numpy as np\n",
    "import matplotlib.pyplot as plt"
   ]
  },
  {
   "cell_type": "markdown",
   "id": "784a22ad",
   "metadata": {
    "papermill": {
     "duration": 0.003798,
     "end_time": "2023-01-19T12:03:03.319173",
     "exception": false,
     "start_time": "2023-01-19T12:03:03.315375",
     "status": "completed"
    },
    "tags": []
   },
   "source": [
    "Vamos a cargar la data y llevarla a las variables de entrenamiento y de test"
   ]
  },
  {
   "cell_type": "code",
   "execution_count": 2,
   "id": "1a8f2263",
   "metadata": {
    "execution": {
     "iopub.execute_input": "2023-01-19T12:03:03.329815Z",
     "iopub.status.busy": "2023-01-19T12:03:03.328053Z",
     "iopub.status.idle": "2023-01-19T12:03:04.352651Z",
     "shell.execute_reply": "2023-01-19T12:03:04.351469Z"
    },
    "papermill": {
     "duration": 1.03268,
     "end_time": "2023-01-19T12:03:04.355556",
     "exception": false,
     "start_time": "2023-01-19T12:03:03.322876",
     "status": "completed"
    },
    "tags": []
   },
   "outputs": [
    {
     "name": "stdout",
     "output_type": "stream",
     "text": [
      "Downloading data from https://storage.googleapis.com/tensorflow/tf-keras-datasets/train-labels-idx1-ubyte.gz\n",
      "32768/29515 [=================================] - 0s 0us/step\n",
      "40960/29515 [=========================================] - 0s 0us/step\n",
      "Downloading data from https://storage.googleapis.com/tensorflow/tf-keras-datasets/train-images-idx3-ubyte.gz\n",
      "26427392/26421880 [==============================] - 0s 0us/step\n",
      "26435584/26421880 [==============================] - 0s 0us/step\n",
      "Downloading data from https://storage.googleapis.com/tensorflow/tf-keras-datasets/t10k-labels-idx1-ubyte.gz\n",
      "16384/5148 [===============================================================================================] - 0s 0us/step\n",
      "Downloading data from https://storage.googleapis.com/tensorflow/tf-keras-datasets/t10k-images-idx3-ubyte.gz\n",
      "4423680/4422102 [==============================] - 0s 0us/step\n",
      "4431872/4422102 [==============================] - 0s 0us/step\n"
     ]
    }
   ],
   "source": [
    "(train_images, train_labels), (test_images, test_labels) = fashion_mnist.load_data()"
   ]
  },
  {
   "cell_type": "markdown",
   "id": "9c5553be",
   "metadata": {
    "papermill": {
     "duration": 0.004578,
     "end_time": "2023-01-19T12:03:04.365518",
     "exception": false,
     "start_time": "2023-01-19T12:03:04.360940",
     "status": "completed"
    },
    "tags": []
   },
   "source": [
    "Analisis exploratorio"
   ]
  },
  {
   "cell_type": "code",
   "execution_count": 3,
   "id": "d8706cad",
   "metadata": {
    "execution": {
     "iopub.execute_input": "2023-01-19T12:03:04.376865Z",
     "iopub.status.busy": "2023-01-19T12:03:04.375923Z",
     "iopub.status.idle": "2023-01-19T12:03:04.384067Z",
     "shell.execute_reply": "2023-01-19T12:03:04.383099Z"
    },
    "papermill": {
     "duration": 0.016566,
     "end_time": "2023-01-19T12:03:04.386739",
     "exception": false,
     "start_time": "2023-01-19T12:03:04.370173",
     "status": "completed"
    },
    "tags": []
   },
   "outputs": [
    {
     "data": {
      "text/plain": [
       "(60000, 28, 28)"
      ]
     },
     "execution_count": 3,
     "metadata": {},
     "output_type": "execute_result"
    }
   ],
   "source": [
    "train_images.shape #60k imagenes de 28 x 28 pixeles"
   ]
  },
  {
   "cell_type": "code",
   "execution_count": 4,
   "id": "f67a2b73",
   "metadata": {
    "execution": {
     "iopub.execute_input": "2023-01-19T12:03:04.399154Z",
     "iopub.status.busy": "2023-01-19T12:03:04.397576Z",
     "iopub.status.idle": "2023-01-19T12:03:04.627563Z",
     "shell.execute_reply": "2023-01-19T12:03:04.626523Z"
    },
    "papermill": {
     "duration": 0.237935,
     "end_time": "2023-01-19T12:03:04.629548",
     "exception": false,
     "start_time": "2023-01-19T12:03:04.391613",
     "status": "completed"
    },
    "tags": []
   },
   "outputs": [
    {
     "data": {
      "text/plain": [
       "<matplotlib.image.AxesImage at 0x7fe4575c3850>"
      ]
     },
     "execution_count": 4,
     "metadata": {},
     "output_type": "execute_result"
    },
    {
     "data": {
      "image/png": "[encoded data removed]",
      "text/plain": [
       "<Figure size 432x288 with 1 Axes>"
      ]
     },
     "metadata": {
      "needs_background": "light"
     },
     "output_type": "display_data"
    }
   ],
   "source": [
    "plt.imshow(train_images[8]) #Vemos que son imagenes de ropa"
   ]
  },
  {
   "cell_type": "markdown",
   "id": "2a3f0315",
   "metadata": {
    "papermill": {
     "duration": 0.005017,
     "end_time": "2023-01-19T12:03:04.639526",
     "exception": false,
     "start_time": "2023-01-19T12:03:04.634509",
     "status": "completed"
    },
    "tags": []
   },
   "source": [
    "Vamos a limpiar los datos.\n",
    "Lo primero sera reescalar los valores del set de entrenamiento."
   ]
  },
  {
   "cell_type": "code",
   "execution_count": 5,
   "id": "8ff3b897",
   "metadata": {
    "execution": {
     "iopub.execute_input": "2023-01-19T12:03:04.652187Z",
     "iopub.status.busy": "2023-01-19T12:03:04.650540Z",
     "iopub.status.idle": "2023-01-19T12:03:04.735335Z",
     "shell.execute_reply": "2023-01-19T12:03:04.734186Z"
    },
    "papermill": {
     "duration": 0.094049,
     "end_time": "2023-01-19T12:03:04.738370",
     "exception": false,
     "start_time": "2023-01-19T12:03:04.644321",
     "status": "completed"
    },
    "tags": []
   },
   "outputs": [],
   "source": [
    "train_images = train_images.astype('float32') / 255 #Reescalar los valores. Sobre 255 porque los pixeles que manejan las imagenes son de 0 a 255\n",
    "test_image = test_images.astype('float32') / 255 #...y las redes neuronales se entienden mejor con numeros pequenos como decimales"
   ]
  },
  {
   "cell_type": "code",
   "execution_count": 6,
   "id": "402a2ab1",
   "metadata": {
    "execution": {
     "iopub.execute_input": "2023-01-19T12:03:04.751803Z",
     "iopub.status.busy": "2023-01-19T12:03:04.751450Z",
     "iopub.status.idle": "2023-01-19T12:03:04.758377Z",
     "shell.execute_reply": "2023-01-19T12:03:04.757407Z"
    },
    "papermill": {
     "duration": 0.016312,
     "end_time": "2023-01-19T12:03:04.760714",
     "exception": false,
     "start_time": "2023-01-19T12:03:04.744402",
     "status": "completed"
    },
    "tags": []
   },
   "outputs": [],
   "source": [
    "train_images = train_images.reshape(train_images.shape[0],28,28,1) #Vuelve las imagenes de 28 * 28 que este en 1 canal\n",
    "test_images = test_images.reshape(test_images.shape[0],28,28,1)"
   ]
  },
  {
   "cell_type": "markdown",
   "id": "0efb478a",
   "metadata": {
    "papermill": {
     "duration": 0.005538,
     "end_time": "2023-01-19T12:03:04.772207",
     "exception": false,
     "start_time": "2023-01-19T12:03:04.766669",
     "status": "completed"
    },
    "tags": []
   },
   "source": [
    "train_labels esta compuesto por enteros.\n",
    "Queremos llevar todos los valores de train_labels a un solo array de 0s y 1s de la cantidad de posibles opciones. Para eso se usa to_categorical(), con 10 posibles opciones (esto ultimo basado en la documentacion)\n"
   ]
  },
  {
   "cell_type": "code",
   "execution_count": 7,
   "id": "beb10c67",
   "metadata": {
    "execution": {
     "iopub.execute_input": "2023-01-19T12:03:04.785275Z",
     "iopub.status.busy": "2023-01-19T12:03:04.784300Z",
     "iopub.status.idle": "2023-01-19T12:03:04.792024Z",
     "shell.execute_reply": "2023-01-19T12:03:04.791166Z"
    },
    "papermill": {
     "duration": 0.016273,
     "end_time": "2023-01-19T12:03:04.794285",
     "exception": false,
     "start_time": "2023-01-19T12:03:04.778012",
     "status": "completed"
    },
    "tags": []
   },
   "outputs": [],
   "source": [
    "train_labels = tf.keras.utils.to_categorical(train_labels, 10)\n",
    "test_labels = tf.keras.utils.to_categorical(test_labels, 10)"
   ]
  },
  {
   "cell_type": "markdown",
   "id": "7309c214",
   "metadata": {
    "papermill": {
     "duration": 0.005385,
     "end_time": "2023-01-19T12:03:04.805323",
     "exception": false,
     "start_time": "2023-01-19T12:03:04.799938",
     "status": "completed"
    },
    "tags": []
   },
   "source": [
    "Ahora vamos a crear nuestro modelo de datos"
   ]
  },
  {
   "cell_type": "code",
   "execution_count": 8,
   "id": "9be595cc",
   "metadata": {
    "collapsed": true,
    "execution": {
     "iopub.execute_input": "2023-01-19T12:03:04.819329Z",
     "iopub.status.busy": "2023-01-19T12:03:04.818503Z",
     "iopub.status.idle": "2023-01-19T12:03:09.080581Z",
     "shell.execute_reply": "2023-01-19T12:03:09.079562Z"
    },
    "jupyter": {
     "outputs_hidden": true
    },
    "papermill": {
     "duration": 4.272008,
     "end_time": "2023-01-19T12:03:09.084087",
     "exception": false,
     "start_time": "2023-01-19T12:03:04.812079",
     "status": "completed"
    },
    "tags": []
   },
   "outputs": [
    {
     "name": "stderr",
     "output_type": "stream",
     "text": [
      "2023-01-19 12:03:04.969139: I tensorflow/stream_executor/cuda/cuda_gpu_executor.cc:937] successful NUMA node read from SysFS had negative value (-1), but there must be at least one NUMA node, so returning NUMA node zero\n",
      "2023-01-19 12:03:04.970049: I tensorflow/stream_executor/cuda/cuda_gpu_executor.cc:937] successful NUMA node read from SysFS had negative value (-1), but there must be at least one NUMA node, so returning NUMA node zero\n",
      "2023-01-19 12:03:05.096385: I tensorflow/stream_executor/cuda/cuda_gpu_executor.cc:937] successful NUMA node read from SysFS had negative value (-1), but there must be at least one NUMA node, so returning NUMA node zero\n",
      "2023-01-19 12:03:05.097328: I tensorflow/stream_executor/cuda/cuda_gpu_executor.cc:937] successful NUMA node read from SysFS had negative value (-1), but there must be at least one NUMA node, so returning NUMA node zero\n",
      "2023-01-19 12:03:05.098064: I tensorflow/stream_executor/cuda/cuda_gpu_executor.cc:937] successful NUMA node read from SysFS had negative value (-1), but there must be at least one NUMA node, so returning NUMA node zero\n",
      "2023-01-19 12:03:05.098835: I tensorflow/stream_executor/cuda/cuda_gpu_executor.cc:937] successful NUMA node read from SysFS had negative value (-1), but there must be at least one NUMA node, so returning NUMA node zero\n",
      "2023-01-19 12:03:05.101386: I tensorflow/core/platform/cpu_feature_guard.cc:142] This TensorFlow binary is optimized with oneAPI Deep Neural Network Library (oneDNN) to use the following CPU instructions in performance-critical operations:  AVX2 AVX512F FMA\n",
      "To enable them in other operations, rebuild TensorFlow with the appropriate compiler flags.\n",
      "2023-01-19 12:03:05.385873: I tensorflow/stream_executor/cuda/cuda_gpu_executor.cc:937] successful NUMA node read from SysFS had negative value (-1), but there must be at least one NUMA node, so returning NUMA node zero\n",
      "2023-01-19 12:03:05.387310: I tensorflow/stream_executor/cuda/cuda_gpu_executor.cc:937] successful NUMA node read from SysFS had negative value (-1), but there must be at least one NUMA node, so returning NUMA node zero\n",
      "2023-01-19 12:03:05.388617: I tensorflow/stream_executor/cuda/cuda_gpu_executor.cc:937] successful NUMA node read from SysFS had negative value (-1), but there must be at least one NUMA node, so returning NUMA node zero\n",
      "2023-01-19 12:03:05.389798: I tensorflow/stream_executor/cuda/cuda_gpu_executor.cc:937] successful NUMA node read from SysFS had negative value (-1), but there must be at least one NUMA node, so returning NUMA node zero\n",
      "2023-01-19 12:03:05.390703: I tensorflow/stream_executor/cuda/cuda_gpu_executor.cc:937] successful NUMA node read from SysFS had negative value (-1), but there must be at least one NUMA node, so returning NUMA node zero\n",
      "2023-01-19 12:03:05.391507: I tensorflow/stream_executor/cuda/cuda_gpu_executor.cc:937] successful NUMA node read from SysFS had negative value (-1), but there must be at least one NUMA node, so returning NUMA node zero\n",
      "2023-01-19 12:03:08.342177: I tensorflow/stream_executor/cuda/cuda_gpu_executor.cc:937] successful NUMA node read from SysFS had negative value (-1), but there must be at least one NUMA node, so returning NUMA node zero\n",
      "2023-01-19 12:03:08.343275: I tensorflow/stream_executor/cuda/cuda_gpu_executor.cc:937] successful NUMA node read from SysFS had negative value (-1), but there must be at least one NUMA node, so returning NUMA node zero\n",
      "2023-01-19 12:03:08.344521: I tensorflow/stream_executor/cuda/cuda_gpu_executor.cc:937] successful NUMA node read from SysFS had negative value (-1), but there must be at least one NUMA node, so returning NUMA node zero\n",
      "2023-01-19 12:03:08.345625: I tensorflow/stream_executor/cuda/cuda_gpu_executor.cc:937] successful NUMA node read from SysFS had negative value (-1), but there must be at least one NUMA node, so returning NUMA node zero\n",
      "2023-01-19 12:03:08.347110: I tensorflow/stream_executor/cuda/cuda_gpu_executor.cc:937] successful NUMA node read from SysFS had negative value (-1), but there must be at least one NUMA node, so returning NUMA node zero\n",
      "2023-01-19 12:03:08.348389: I tensorflow/core/common_runtime/gpu/gpu_device.cc:1510] Created device /job:localhost/replica:0/task:0/device:GPU:0 with 13789 MB memory:  -> device: 0, name: Tesla T4, pci bus id: 0000:00:04.0, compute capability: 7.5\n",
      "2023-01-19 12:03:08.354081: I tensorflow/stream_executor/cuda/cuda_gpu_executor.cc:937] successful NUMA node read from SysFS had negative value (-1), but there must be at least one NUMA node, so returning NUMA node zero\n",
      "2023-01-19 12:03:08.355135: I tensorflow/core/common_runtime/gpu/gpu_device.cc:1510] Created device /job:localhost/replica:0/task:0/device:GPU:1 with 13789 MB memory:  -> device: 1, name: Tesla T4, pci bus id: 0000:00:05.0, compute capability: 7.5\n"
     ]
    },
    {
     "name": "stdout",
     "output_type": "stream",
     "text": [
      "Model: \"sequential\"\n",
      "_________________________________________________________________\n",
      "Layer (type)                 Output Shape              Param #   \n",
      "=================================================================\n",
      "conv2d (Conv2D)              (None, 28, 28, 64)        320       \n",
      "_________________________________________________________________\n",
      "max_pooling2d (MaxPooling2D) (None, 14, 14, 64)        0         \n",
      "_________________________________________________________________\n",
      "dropout (Dropout)            (None, 14, 14, 64)        0         \n",
      "_________________________________________________________________\n",
      "conv2d_1 (Conv2D)            (None, 14, 14, 32)        8224      \n",
      "_________________________________________________________________\n",
      "max_pooling2d_1 (MaxPooling2 (None, 7, 7, 32)          0         \n",
      "_________________________________________________________________\n",
      "dropout_1 (Dropout)          (None, 7, 7, 32)          0         \n",
      "_________________________________________________________________\n",
      "flatten (Flatten)            (None, 1568)              0         \n",
      "_________________________________________________________________\n",
      "dense (Dense)                (None, 256)               401664    \n",
      "_________________________________________________________________\n",
      "dropout_2 (Dropout)          (None, 256)               0         \n",
      "_________________________________________________________________\n",
      "dense_1 (Dense)              (None, 10)                2570      \n",
      "=================================================================\n",
      "Total params: 412,778\n",
      "Trainable params: 412,778\n",
      "Non-trainable params: 0\n",
      "_________________________________________________________________\n"
     ]
    }
   ],
   "source": [
    "model = tf.keras.Sequential()\n",
    "model.add(Conv2D(filters=64, kernel_size=2, padding='same', activation='relu', input_shape=(28,28,1)))  #Etapa de convolucion.\n",
    "model.add(MaxPooling2D(pool_size=2))\n",
    "model.add(Dropout(0.3))  #capa para reducir el overfiting\n",
    "model.add(Conv2D(filters=32, kernel_size=2, padding='same', activation='relu')) #Etapa de convolucion pero sin input shape, ya que esto lo da la capa anterior\n",
    "model.add(MaxPooling2D(pool_size=2))\n",
    "model.add(Dropout(0.3))\n",
    "model.add(Flatten()) #aplana la matriz o tensor para que queden en serie\n",
    "model.add(Dense(256, activation='relu'))\n",
    "model.add(Dropout(0.5))\n",
    "model.add(Dense(10, activation='softmax')) #Esta capa es de 10 porque son 10 posibles salidas\n",
    "model.summary()"
   ]
  },
  {
   "cell_type": "markdown",
   "id": "0f59712a",
   "metadata": {
    "papermill": {
     "duration": 0.004961,
     "end_time": "2023-01-19T12:03:09.095632",
     "exception": false,
     "start_time": "2023-01-19T12:03:09.090671",
     "status": "completed"
    },
    "tags": []
   },
   "source": [
    "Ya tenemos el modelo de la red convolucional.\n",
    "Ahora se va a compilar y entrenar la red neuronal convolucional"
   ]
  },
  {
   "cell_type": "code",
   "execution_count": 9,
   "id": "aab801af",
   "metadata": {
    "execution": {
     "iopub.execute_input": "2023-01-19T12:03:09.108709Z",
     "iopub.status.busy": "2023-01-19T12:03:09.107237Z",
     "iopub.status.idle": "2023-01-19T12:03:09.119196Z",
     "shell.execute_reply": "2023-01-19T12:03:09.118341Z"
    },
    "papermill": {
     "duration": 0.020229,
     "end_time": "2023-01-19T12:03:09.121200",
     "exception": false,
     "start_time": "2023-01-19T12:03:09.100971",
     "status": "completed"
    },
    "tags": []
   },
   "outputs": [],
   "source": [
    "model.compile(loss='categorical_crossentropy',  #Categorical porque tiene mas de 2 posibles salidas. 10\n",
    "             optimizer = 'rmsprop',\n",
    "             metrics=['accuracy']\n",
    "             ) "
   ]
  },
  {
   "cell_type": "code",
   "execution_count": 10,
   "id": "f4970a15",
   "metadata": {
    "execution": {
     "iopub.execute_input": "2023-01-19T12:03:09.133254Z",
     "iopub.status.busy": "2023-01-19T12:03:09.132069Z",
     "iopub.status.idle": "2023-01-19T12:06:36.807854Z",
     "shell.execute_reply": "2023-01-19T12:06:36.806945Z"
    },
    "papermill": {
     "duration": 207.68436,
     "end_time": "2023-01-19T12:06:36.810519",
     "exception": false,
     "start_time": "2023-01-19T12:03:09.126159",
     "status": "completed"
    },
    "tags": []
   },
   "outputs": [
    {
     "name": "stderr",
     "output_type": "stream",
     "text": [
      "2023-01-19 12:03:09.563890: I tensorflow/compiler/mlir/mlir_graph_optimization_pass.cc:185] None of the MLIR Optimization Passes are enabled (registered 2)\n"
     ]
    },
    {
     "name": "stdout",
     "output_type": "stream",
     "text": [
      "Epoch 1/100\n"
     ]
    },
    {
     "name": "stderr",
     "output_type": "stream",
     "text": [
      "2023-01-19 12:03:11.417585: I tensorflow/stream_executor/cuda/cuda_dnn.cc:369] Loaded cuDNN version 8005\n"
     ]
    },
    {
     "name": "stdout",
     "output_type": "stream",
     "text": [
      "92/92 [==============================] - 11s 23ms/step - loss: 0.8709 - accuracy: 0.6757\n",
      "Epoch 2/100\n",
      "92/92 [==============================] - 2s 21ms/step - loss: 0.5270 - accuracy: 0.8062\n",
      "Epoch 3/100\n",
      "92/92 [==============================] - 2s 21ms/step - loss: 0.4525 - accuracy: 0.8361\n",
      "Epoch 4/100\n",
      "92/92 [==============================] - 2s 21ms/step - loss: 0.4108 - accuracy: 0.8516\n",
      "Epoch 5/100\n",
      "92/92 [==============================] - 2s 21ms/step - loss: 0.3820 - accuracy: 0.8604\n",
      "Epoch 6/100\n",
      "92/92 [==============================] - 2s 22ms/step - loss: 0.3623 - accuracy: 0.8690\n",
      "Epoch 7/100\n",
      "92/92 [==============================] - 2s 21ms/step - loss: 0.3467 - accuracy: 0.8735\n",
      "Epoch 8/100\n",
      "92/92 [==============================] - 2s 21ms/step - loss: 0.3316 - accuracy: 0.8790\n",
      "Epoch 9/100\n",
      "92/92 [==============================] - 2s 21ms/step - loss: 0.3199 - accuracy: 0.8840\n",
      "Epoch 10/100\n",
      "92/92 [==============================] - 2s 22ms/step - loss: 0.3106 - accuracy: 0.8863\n",
      "Epoch 11/100\n",
      "92/92 [==============================] - 2s 21ms/step - loss: 0.3024 - accuracy: 0.8908\n",
      "Epoch 12/100\n",
      "92/92 [==============================] - 2s 22ms/step - loss: 0.2968 - accuracy: 0.8897\n",
      "Epoch 13/100\n",
      "92/92 [==============================] - 2s 21ms/step - loss: 0.2884 - accuracy: 0.8929\n",
      "Epoch 14/100\n",
      "92/92 [==============================] - 2s 21ms/step - loss: 0.2822 - accuracy: 0.8972\n",
      "Epoch 15/100\n",
      "92/92 [==============================] - 2s 21ms/step - loss: 0.2756 - accuracy: 0.8988\n",
      "Epoch 16/100\n",
      "92/92 [==============================] - 2s 21ms/step - loss: 0.2746 - accuracy: 0.9005\n",
      "Epoch 17/100\n",
      "92/92 [==============================] - 2s 21ms/step - loss: 0.2686 - accuracy: 0.9014\n",
      "Epoch 18/100\n",
      "92/92 [==============================] - 2s 22ms/step - loss: 0.2636 - accuracy: 0.9027\n",
      "Epoch 19/100\n",
      "92/92 [==============================] - 2s 21ms/step - loss: 0.2623 - accuracy: 0.9042\n",
      "Epoch 20/100\n",
      "92/92 [==============================] - 2s 21ms/step - loss: 0.2550 - accuracy: 0.9057\n",
      "Epoch 21/100\n",
      "92/92 [==============================] - 2s 21ms/step - loss: 0.2506 - accuracy: 0.9078\n",
      "Epoch 22/100\n",
      "92/92 [==============================] - 2s 21ms/step - loss: 0.2498 - accuracy: 0.9090\n",
      "Epoch 23/100\n",
      "92/92 [==============================] - 2s 22ms/step - loss: 0.2468 - accuracy: 0.9100\n",
      "Epoch 24/100\n",
      "92/92 [==============================] - 2s 21ms/step - loss: 0.2392 - accuracy: 0.9112\n",
      "Epoch 25/100\n",
      "92/92 [==============================] - 2s 21ms/step - loss: 0.2407 - accuracy: 0.9119\n",
      "Epoch 26/100\n",
      "92/92 [==============================] - 2s 22ms/step - loss: 0.2346 - accuracy: 0.9135\n",
      "Epoch 27/100\n",
      "92/92 [==============================] - 2s 22ms/step - loss: 0.2323 - accuracy: 0.9150\n",
      "Epoch 28/100\n",
      "92/92 [==============================] - 2s 21ms/step - loss: 0.2321 - accuracy: 0.9151\n",
      "Epoch 29/100\n",
      "92/92 [==============================] - 2s 22ms/step - loss: 0.2279 - accuracy: 0.9164\n",
      "Epoch 30/100\n",
      "92/92 [==============================] - 2s 22ms/step - loss: 0.2243 - accuracy: 0.9165\n",
      "Epoch 31/100\n",
      "92/92 [==============================] - 2s 21ms/step - loss: 0.2232 - accuracy: 0.9184\n",
      "Epoch 32/100\n",
      "92/92 [==============================] - 2s 21ms/step - loss: 0.2231 - accuracy: 0.9172\n",
      "Epoch 33/100\n",
      "92/92 [==============================] - 2s 21ms/step - loss: 0.2196 - accuracy: 0.9194\n",
      "Epoch 34/100\n",
      "92/92 [==============================] - 2s 22ms/step - loss: 0.2162 - accuracy: 0.9206\n",
      "Epoch 35/100\n",
      "92/92 [==============================] - 2s 22ms/step - loss: 0.2129 - accuracy: 0.9212\n",
      "Epoch 36/100\n",
      "92/92 [==============================] - 2s 21ms/step - loss: 0.2154 - accuracy: 0.9208\n",
      "Epoch 37/100\n",
      "92/92 [==============================] - 2s 21ms/step - loss: 0.2121 - accuracy: 0.9220\n",
      "Epoch 38/100\n",
      "92/92 [==============================] - 2s 21ms/step - loss: 0.2095 - accuracy: 0.9237\n",
      "Epoch 39/100\n",
      "92/92 [==============================] - 2s 21ms/step - loss: 0.2061 - accuracy: 0.9240\n",
      "Epoch 40/100\n",
      "92/92 [==============================] - 2s 22ms/step - loss: 0.2071 - accuracy: 0.9236\n",
      "Epoch 41/100\n",
      "92/92 [==============================] - 2s 21ms/step - loss: 0.2043 - accuracy: 0.9251\n",
      "Epoch 42/100\n",
      "92/92 [==============================] - 2s 22ms/step - loss: 0.2038 - accuracy: 0.9250\n",
      "Epoch 43/100\n",
      "92/92 [==============================] - 2s 22ms/step - loss: 0.2034 - accuracy: 0.9256\n",
      "Epoch 44/100\n",
      "92/92 [==============================] - 2s 21ms/step - loss: 0.2014 - accuracy: 0.9256\n",
      "Epoch 45/100\n",
      "92/92 [==============================] - 2s 22ms/step - loss: 0.1983 - accuracy: 0.9269\n",
      "Epoch 46/100\n",
      "92/92 [==============================] - 2s 22ms/step - loss: 0.1980 - accuracy: 0.9280\n",
      "Epoch 47/100\n",
      "92/92 [==============================] - 2s 21ms/step - loss: 0.1975 - accuracy: 0.9281\n",
      "Epoch 48/100\n",
      "92/92 [==============================] - 2s 21ms/step - loss: 0.1954 - accuracy: 0.9281\n",
      "Epoch 49/100\n",
      "92/92 [==============================] - 2s 21ms/step - loss: 0.1924 - accuracy: 0.9290\n",
      "Epoch 50/100\n",
      "92/92 [==============================] - 2s 21ms/step - loss: 0.1939 - accuracy: 0.9285\n",
      "Epoch 51/100\n",
      "92/92 [==============================] - 2s 22ms/step - loss: 0.1916 - accuracy: 0.9304\n",
      "Epoch 52/100\n",
      "92/92 [==============================] - 2s 21ms/step - loss: 0.1895 - accuracy: 0.9308\n",
      "Epoch 53/100\n",
      "92/92 [==============================] - 2s 21ms/step - loss: 0.1887 - accuracy: 0.9306\n",
      "Epoch 54/100\n",
      "92/92 [==============================] - 2s 22ms/step - loss: 0.1919 - accuracy: 0.9298\n",
      "Epoch 55/100\n",
      "92/92 [==============================] - 2s 21ms/step - loss: 0.1906 - accuracy: 0.9286\n",
      "Epoch 56/100\n",
      "92/92 [==============================] - 2s 22ms/step - loss: 0.1864 - accuracy: 0.9308\n",
      "Epoch 57/100\n",
      "92/92 [==============================] - 2s 23ms/step - loss: 0.1846 - accuracy: 0.9322\n",
      "Epoch 58/100\n",
      "92/92 [==============================] - 2s 22ms/step - loss: 0.1828 - accuracy: 0.9325\n",
      "Epoch 59/100\n",
      "92/92 [==============================] - 2s 22ms/step - loss: 0.1829 - accuracy: 0.9339\n",
      "Epoch 60/100\n",
      "92/92 [==============================] - 2s 22ms/step - loss: 0.1806 - accuracy: 0.9341\n",
      "Epoch 61/100\n",
      "92/92 [==============================] - 2s 21ms/step - loss: 0.1812 - accuracy: 0.9338\n",
      "Epoch 62/100\n",
      "92/92 [==============================] - 2s 22ms/step - loss: 0.1825 - accuracy: 0.9329\n",
      "Epoch 63/100\n",
      "92/92 [==============================] - 2s 21ms/step - loss: 0.1804 - accuracy: 0.9348\n",
      "Epoch 64/100\n",
      "92/92 [==============================] - 2s 21ms/step - loss: 0.1806 - accuracy: 0.9333\n",
      "Epoch 65/100\n",
      "92/92 [==============================] - 2s 21ms/step - loss: 0.1781 - accuracy: 0.9348\n",
      "Epoch 66/100\n",
      "92/92 [==============================] - 2s 21ms/step - loss: 0.1788 - accuracy: 0.9343\n",
      "Epoch 67/100\n",
      "92/92 [==============================] - 2s 21ms/step - loss: 0.1784 - accuracy: 0.9350\n",
      "Epoch 68/100\n",
      "92/92 [==============================] - 2s 22ms/step - loss: 0.1786 - accuracy: 0.9347\n",
      "Epoch 69/100\n",
      "92/92 [==============================] - 2s 21ms/step - loss: 0.1767 - accuracy: 0.9343\n",
      "Epoch 70/100\n",
      "92/92 [==============================] - 2s 21ms/step - loss: 0.1800 - accuracy: 0.9332\n",
      "Epoch 71/100\n",
      "92/92 [==============================] - 2s 21ms/step - loss: 0.1764 - accuracy: 0.9350\n",
      "Epoch 72/100\n",
      "92/92 [==============================] - 2s 21ms/step - loss: 0.1741 - accuracy: 0.9354\n",
      "Epoch 73/100\n",
      "92/92 [==============================] - 2s 22ms/step - loss: 0.1735 - accuracy: 0.9355\n",
      "Epoch 74/100\n",
      "92/92 [==============================] - 2s 22ms/step - loss: 0.1735 - accuracy: 0.9365\n",
      "Epoch 75/100\n",
      "92/92 [==============================] - 2s 22ms/step - loss: 0.1737 - accuracy: 0.9365\n",
      "Epoch 76/100\n",
      "92/92 [==============================] - 2s 21ms/step - loss: 0.1721 - accuracy: 0.9361\n",
      "Epoch 77/100\n",
      "92/92 [==============================] - 2s 21ms/step - loss: 0.1735 - accuracy: 0.9369\n",
      "Epoch 78/100\n",
      "92/92 [==============================] - 2s 21ms/step - loss: 0.1712 - accuracy: 0.9380\n",
      "Epoch 79/100\n",
      "92/92 [==============================] - 2s 22ms/step - loss: 0.1702 - accuracy: 0.9370\n",
      "Epoch 80/100\n",
      "92/92 [==============================] - 2s 21ms/step - loss: 0.1709 - accuracy: 0.9374\n",
      "Epoch 81/100\n",
      "92/92 [==============================] - 2s 21ms/step - loss: 0.1689 - accuracy: 0.9374\n",
      "Epoch 82/100\n",
      "92/92 [==============================] - 2s 21ms/step - loss: 0.1703 - accuracy: 0.9371\n",
      "Epoch 83/100\n",
      "92/92 [==============================] - 2s 21ms/step - loss: 0.1692 - accuracy: 0.9381\n",
      "Epoch 84/100\n",
      "92/92 [==============================] - 2s 22ms/step - loss: 0.1697 - accuracy: 0.9372\n",
      "Epoch 85/100\n",
      "92/92 [==============================] - 2s 21ms/step - loss: 0.1673 - accuracy: 0.9387\n",
      "Epoch 86/100\n",
      "92/92 [==============================] - 2s 21ms/step - loss: 0.1663 - accuracy: 0.9388\n",
      "Epoch 87/100\n",
      "92/92 [==============================] - 2s 21ms/step - loss: 0.1668 - accuracy: 0.9397\n",
      "Epoch 88/100\n",
      "92/92 [==============================] - 2s 21ms/step - loss: 0.1694 - accuracy: 0.9381\n",
      "Epoch 89/100\n",
      "92/92 [==============================] - 2s 21ms/step - loss: 0.1681 - accuracy: 0.9400\n",
      "Epoch 90/100\n",
      "92/92 [==============================] - 2s 24ms/step - loss: 0.1651 - accuracy: 0.9387\n",
      "Epoch 91/100\n",
      "92/92 [==============================] - 2s 21ms/step - loss: 0.1667 - accuracy: 0.9400\n",
      "Epoch 92/100\n",
      "92/92 [==============================] - 2s 21ms/step - loss: 0.1656 - accuracy: 0.9391\n",
      "Epoch 93/100\n",
      "92/92 [==============================] - 2s 21ms/step - loss: 0.1672 - accuracy: 0.9380\n",
      "Epoch 94/100\n",
      "92/92 [==============================] - 2s 21ms/step - loss: 0.1640 - accuracy: 0.9400\n",
      "Epoch 95/100\n",
      "92/92 [==============================] - 2s 21ms/step - loss: 0.1645 - accuracy: 0.9404\n",
      "Epoch 96/100\n",
      "92/92 [==============================] - 2s 21ms/step - loss: 0.1613 - accuracy: 0.9405\n",
      "Epoch 97/100\n",
      "92/92 [==============================] - 2s 21ms/step - loss: 0.1631 - accuracy: 0.9404\n",
      "Epoch 98/100\n",
      "92/92 [==============================] - 2s 21ms/step - loss: 0.1636 - accuracy: 0.9404\n",
      "Epoch 99/100\n",
      "92/92 [==============================] - 2s 21ms/step - loss: 0.1609 - accuracy: 0.9410\n",
      "Epoch 100/100\n",
      "92/92 [==============================] - 2s 21ms/step - loss: 0.1655 - accuracy: 0.9400\n"
     ]
    }
   ],
   "source": [
    "history = model.fit(train_images, train_labels, batch_size = 654, epochs = 100)"
   ]
  },
  {
   "cell_type": "code",
   "execution_count": 11,
   "id": "b2be416e",
   "metadata": {
    "execution": {
     "iopub.execute_input": "2023-01-19T12:06:37.166494Z",
     "iopub.status.busy": "2023-01-19T12:06:37.166087Z",
     "iopub.status.idle": "2023-01-19T12:06:38.078569Z",
     "shell.execute_reply": "2023-01-19T12:06:38.077563Z"
    },
    "papermill": {
     "duration": 1.093953,
     "end_time": "2023-01-19T12:06:38.081294",
     "exception": false,
     "start_time": "2023-01-19T12:06:36.987341",
     "status": "completed"
    },
    "tags": []
   },
   "outputs": [
    {
     "data": {
      "text/plain": [
       "[69.9683609008789, 0.8435999751091003]"
      ]
     },
     "execution_count": 11,
     "metadata": {},
     "output_type": "execute_result"
    }
   ],
   "source": [
    "model.evaluate(test_images, test_labels, verbose=0)"
   ]
  },
  {
   "cell_type": "code",
   "execution_count": 12,
   "id": "1a92b28e",
   "metadata": {
    "execution": {
     "iopub.execute_input": "2023-01-19T12:06:38.488832Z",
     "iopub.status.busy": "2023-01-19T12:06:38.488471Z",
     "iopub.status.idle": "2023-01-19T12:06:38.709127Z",
     "shell.execute_reply": "2023-01-19T12:06:38.708181Z"
    },
    "papermill": {
     "duration": 0.456099,
     "end_time": "2023-01-19T12:06:38.711552",
     "exception": false,
     "start_time": "2023-01-19T12:06:38.255453",
     "status": "completed"
    },
    "tags": []
   },
   "outputs": [
    {
     "data": {
      "image/png": "[encoded data removed]",
      "text/plain": [
       "<Figure size 720x720 with 1 Axes>"
      ]
     },
     "metadata": {
      "needs_background": "light"
     },
     "output_type": "display_data"
    }
   ],
   "source": [
    "import matplotlib.pyplot as plt\n",
    "\n",
    "history_dict = history.history\n",
    "loss_values = history_dict['accuracy']\n",
    "\n",
    "fig = plt.figure(figsize=(10,10))\n",
    "epoch = range(1,len(loss_values) + 1)\n",
    "plt.plot(epoch, loss_values, '-', label = 'accuracy')\n",
    "plt.legend()\n",
    "plt.show()"
   ]
  }
 ],
 "metadata": {
  "kernelspec": {
   "display_name": "Python 3",
   "language": "python",
   "name": "python3"
  },
  "language_info": {
   "codemirror_mode": {
    "name": "ipython",
    "version": 3
   },
   "file_extension": ".py",
   "mimetype": "text/x-python",
   "name": "python",
   "nbconvert_exporter": "python",
   "pygments_lexer": "ipython3",
   "version": "3.7.12"
  },
  "papermill": {
   "default_parameters": {},
   "duration": 233.593557,
   "end_time": "2023-01-19T12:06:42.107218",
   "environment_variables": {},
   "exception": null,
   "input_path": "__notebook__.ipynb",
   "output_path": "__notebook__.ipynb",
   "parameters": {},
   "start_time": "2023-01-19T12:02:48.513661",
   "version": "2.3.4"
  }
 },
 "nbformat": 4,
 "nbformat_minor": 5
}
