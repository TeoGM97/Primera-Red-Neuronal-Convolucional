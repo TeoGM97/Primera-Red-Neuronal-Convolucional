{
 "cells": [
  {
   "cell_type": "markdown",
   "id": "309cb9c7",
   "metadata": {
    "papermill": {
     "duration": 0.006554,
     "end_time": "2023-01-30T14:58:33.229482",
     "exception": false,
     "start_time": "2023-01-30T14:58:33.222928",
     "status": "completed"
    },
    "tags": []
   },
   "source": [
    "Las redes Neuronales Convolucionales se especializan en la deteccion y visualizacion de imagenes.\n",
    "\n",
    "Estas redes intentan simular lo que hace la vision y analisis humano para reconocer diferentes formas, texturas, colores, bordes, patrones, etc.\n"
   ]
  },
  {
   "cell_type": "code",
   "execution_count": 1,
   "id": "da1d1441",
   "metadata": {
    "execution": {
     "iopub.execute_input": "2023-01-30T14:58:33.242512Z",
     "iopub.status.busy": "2023-01-30T14:58:33.241709Z",
     "iopub.status.idle": "2023-01-30T14:58:38.576996Z",
     "shell.execute_reply": "2023-01-30T14:58:38.575978Z"
    },
    "papermill": {
     "duration": 5.344596,
     "end_time": "2023-01-30T14:58:38.579861",
     "exception": false,
     "start_time": "2023-01-30T14:58:33.235265",
     "status": "completed"
    },
    "tags": []
   },
   "outputs": [],
   "source": [
    "import tensorflow as tf\n",
    "from tensorflow.keras.datasets import fashion_mnist\n",
    "from tensorflow.keras.layers import Conv2D, Dropout, MaxPooling2D, Flatten, Dense\n",
    "import numpy as np\n",
    "import matplotlib.pyplot as plt"
   ]
  },
  {
   "cell_type": "markdown",
   "id": "26e72ace",
   "metadata": {
    "papermill": {
     "duration": 0.005212,
     "end_time": "2023-01-30T14:58:38.590715",
     "exception": false,
     "start_time": "2023-01-30T14:58:38.585503",
     "status": "completed"
    },
    "tags": []
   },
   "source": [
    "Vamos a cargar la data y llevarla a las variables de entrenamiento y de test"
   ]
  },
  {
   "cell_type": "code",
   "execution_count": 2,
   "id": "e26b3e1d",
   "metadata": {
    "execution": {
     "iopub.execute_input": "2023-01-30T14:58:38.602896Z",
     "iopub.status.busy": "2023-01-30T14:58:38.602368Z",
     "iopub.status.idle": "2023-01-30T14:58:39.577367Z",
     "shell.execute_reply": "2023-01-30T14:58:39.576273Z"
    },
    "papermill": {
     "duration": 0.983892,
     "end_time": "2023-01-30T14:58:39.579906",
     "exception": false,
     "start_time": "2023-01-30T14:58:38.596014",
     "status": "completed"
    },
    "tags": []
   },
   "outputs": [
    {
     "name": "stdout",
     "output_type": "stream",
     "text": [
      "Downloading data from https://storage.googleapis.com/tensorflow/tf-keras-datasets/train-labels-idx1-ubyte.gz\n",
      "32768/29515 [=================================] - 0s 0us/step\n",
      "40960/29515 [=========================================] - 0s 0us/step\n",
      "Downloading data from https://storage.googleapis.com/tensorflow/tf-keras-datasets/train-images-idx3-ubyte.gz\n",
      "26427392/26421880 [==============================] - 0s 0us/step\n",
      "26435584/26421880 [==============================] - 0s 0us/step\n",
      "Downloading data from https://storage.googleapis.com/tensorflow/tf-keras-datasets/t10k-labels-idx1-ubyte.gz\n",
      "16384/5148 [===============================================================================================] - 0s 0us/step\n",
      "Downloading data from https://storage.googleapis.com/tensorflow/tf-keras-datasets/t10k-images-idx3-ubyte.gz\n",
      "4423680/4422102 [==============================] - 0s 0us/step\n",
      "4431872/4422102 [==============================] - 0s 0us/step\n"
     ]
    }
   ],
   "source": [
    "(train_images, train_labels), (test_images, test_labels) = fashion_mnist.load_data()"
   ]
  },
  {
   "cell_type": "markdown",
   "id": "0684bd3d",
   "metadata": {
    "papermill": {
     "duration": 0.006179,
     "end_time": "2023-01-30T14:58:39.592729",
     "exception": false,
     "start_time": "2023-01-30T14:58:39.586550",
     "status": "completed"
    },
    "tags": []
   },
   "source": [
    "Analisis exploratorio"
   ]
  },
  {
   "cell_type": "code",
   "execution_count": 3,
   "id": "bff6fa7a",
   "metadata": {
    "execution": {
     "iopub.execute_input": "2023-01-30T14:58:39.606057Z",
     "iopub.status.busy": "2023-01-30T14:58:39.605747Z",
     "iopub.status.idle": "2023-01-30T14:58:39.613899Z",
     "shell.execute_reply": "2023-01-30T14:58:39.612907Z"
    },
    "papermill": {
     "duration": 0.017608,
     "end_time": "2023-01-30T14:58:39.616394",
     "exception": false,
     "start_time": "2023-01-30T14:58:39.598786",
     "status": "completed"
    },
    "tags": []
   },
   "outputs": [
    {
     "data": {
      "text/plain": [
       "(60000, 28, 28)"
      ]
     },
     "execution_count": 3,
     "metadata": {},
     "output_type": "execute_result"
    }
   ],
   "source": [
    "train_images.shape #60k imagenes de 28 x 28 pixeles"
   ]
  },
  {
   "cell_type": "code",
   "execution_count": 4,
   "id": "1045bde7",
   "metadata": {
    "execution": {
     "iopub.execute_input": "2023-01-30T14:58:39.631494Z",
     "iopub.status.busy": "2023-01-30T14:58:39.630899Z",
     "iopub.status.idle": "2023-01-30T14:58:39.866998Z",
     "shell.execute_reply": "2023-01-30T14:58:39.866063Z"
    },
    "papermill": {
     "duration": 0.246884,
     "end_time": "2023-01-30T14:58:39.869296",
     "exception": false,
     "start_time": "2023-01-30T14:58:39.622412",
     "status": "completed"
    },
    "tags": []
   },
   "outputs": [
    {
     "data": {
      "text/plain": [
       "<matplotlib.image.AxesImage at 0x7f17c2cb3490>"
      ]
     },
     "execution_count": 4,
     "metadata": {},
     "output_type": "execute_result"
    },
    {
     "data": {
      "image/png": "[encoded data removed]",
      "text/plain": [
       "<Figure size 432x288 with 1 Axes>"
      ]
     },
     "metadata": {
      "needs_background": "light"
     },
     "output_type": "display_data"
    }
   ],
   "source": [
    "plt.imshow(train_images[8]) #Vemos que son imagenes de ropa"
   ]
  },
  {
   "cell_type": "markdown",
   "id": "d47384e4",
   "metadata": {
    "papermill": {
     "duration": 0.006304,
     "end_time": "2023-01-30T14:58:39.882411",
     "exception": false,
     "start_time": "2023-01-30T14:58:39.876107",
     "status": "completed"
    },
    "tags": []
   },
   "source": [
    "Vamos a limpiar los datos.\n",
    "Lo primero sera reescalar los valores del set de entrenamiento."
   ]
  },
  {
   "cell_type": "code",
   "execution_count": 5,
   "id": "7d9fe161",
   "metadata": {
    "execution": {
     "iopub.execute_input": "2023-01-30T14:58:39.897787Z",
     "iopub.status.busy": "2023-01-30T14:58:39.896740Z",
     "iopub.status.idle": "2023-01-30T14:58:39.981900Z",
     "shell.execute_reply": "2023-01-30T14:58:39.980701Z"
    },
    "papermill": {
     "duration": 0.095583,
     "end_time": "2023-01-30T14:58:39.984714",
     "exception": false,
     "start_time": "2023-01-30T14:58:39.889131",
     "status": "completed"
    },
    "tags": []
   },
   "outputs": [],
   "source": [
    "train_images = train_images.astype('float32') / 255 #Reescalar los valores. Sobre 255 porque los pixeles que manejan las imagenes son de 0 a 255\n",
    "test_image = test_images.astype('float32') / 255 #...y las redes neuronales se entienden mejor con numeros pequenos como decimales"
   ]
  },
  {
   "cell_type": "code",
   "execution_count": 6,
   "id": "095215de",
   "metadata": {
    "execution": {
     "iopub.execute_input": "2023-01-30T14:58:40.001133Z",
     "iopub.status.busy": "2023-01-30T14:58:40.000717Z",
     "iopub.status.idle": "2023-01-30T14:58:40.006207Z",
     "shell.execute_reply": "2023-01-30T14:58:40.005122Z"
    },
    "papermill": {
     "duration": 0.016021,
     "end_time": "2023-01-30T14:58:40.008479",
     "exception": false,
     "start_time": "2023-01-30T14:58:39.992458",
     "status": "completed"
    },
    "tags": []
   },
   "outputs": [],
   "source": [
    "train_images = train_images.reshape(train_images.shape[0],28,28,1) #Vuelve las imagenes de 28 * 28 que este en 1 canal\n",
    "test_images = test_images.reshape(test_images.shape[0],28,28,1)"
   ]
  },
  {
   "cell_type": "markdown",
   "id": "59a21bce",
   "metadata": {
    "papermill": {
     "duration": 0.008137,
     "end_time": "2023-01-30T14:58:40.023523",
     "exception": false,
     "start_time": "2023-01-30T14:58:40.015386",
     "status": "completed"
    },
    "tags": []
   },
   "source": [
    "train_labels esta compuesto por enteros.\n",
    "Queremos llevar todos los valores de train_labels a un solo array de 0s y 1s de la cantidad de posibles opciones. Para eso se usa to_categorical(), con 10 posibles opciones (esto ultimo basado en la documentacion)\n"
   ]
  },
  {
   "cell_type": "code",
   "execution_count": 7,
   "id": "6d660803",
   "metadata": {
    "execution": {
     "iopub.execute_input": "2023-01-30T14:58:40.039095Z",
     "iopub.status.busy": "2023-01-30T14:58:40.038246Z",
     "iopub.status.idle": "2023-01-30T14:58:40.045633Z",
     "shell.execute_reply": "2023-01-30T14:58:40.044720Z"
    },
    "papermill": {
     "duration": 0.017228,
     "end_time": "2023-01-30T14:58:40.047708",
     "exception": false,
     "start_time": "2023-01-30T14:58:40.030480",
     "status": "completed"
    },
    "tags": []
   },
   "outputs": [],
   "source": [
    "train_labels = tf.keras.utils.to_categorical(train_labels, 10)\n",
    "test_labels = tf.keras.utils.to_categorical(test_labels, 10)"
   ]
  },
  {
   "cell_type": "markdown",
   "id": "b96a72bf",
   "metadata": {
    "papermill": {
     "duration": 0.006682,
     "end_time": "2023-01-30T14:58:40.061165",
     "exception": false,
     "start_time": "2023-01-30T14:58:40.054483",
     "status": "completed"
    },
    "tags": []
   },
   "source": [
    "Ahora vamos a crear nuestro modelo de datos"
   ]
  },
  {
   "cell_type": "code",
   "execution_count": 8,
   "id": "3ea687d8",
   "metadata": {
    "execution": {
     "iopub.execute_input": "2023-01-30T14:58:40.076743Z",
     "iopub.status.busy": "2023-01-30T14:58:40.075895Z",
     "iopub.status.idle": "2023-01-30T14:58:43.740205Z",
     "shell.execute_reply": "2023-01-30T14:58:43.738400Z"
    },
    "papermill": {
     "duration": 3.674556,
     "end_time": "2023-01-30T14:58:43.742550",
     "exception": false,
     "start_time": "2023-01-30T14:58:40.067994",
     "status": "completed"
    },
    "tags": []
   },
   "outputs": [
    {
     "name": "stderr",
     "output_type": "stream",
     "text": [
      "2023-01-30 14:58:40.220367: I tensorflow/stream_executor/cuda/cuda_gpu_executor.cc:937] successful NUMA node read from SysFS had negative value (-1), but there must be at least one NUMA node, so returning NUMA node zero\n",
      "2023-01-30 14:58:40.221389: I tensorflow/stream_executor/cuda/cuda_gpu_executor.cc:937] successful NUMA node read from SysFS had negative value (-1), but there must be at least one NUMA node, so returning NUMA node zero\n",
      "2023-01-30 14:58:40.313213: I tensorflow/stream_executor/cuda/cuda_gpu_executor.cc:937] successful NUMA node read from SysFS had negative value (-1), but there must be at least one NUMA node, so returning NUMA node zero\n",
      "2023-01-30 14:58:40.314121: I tensorflow/stream_executor/cuda/cuda_gpu_executor.cc:937] successful NUMA node read from SysFS had negative value (-1), but there must be at least one NUMA node, so returning NUMA node zero\n",
      "2023-01-30 14:58:40.314947: I tensorflow/stream_executor/cuda/cuda_gpu_executor.cc:937] successful NUMA node read from SysFS had negative value (-1), but there must be at least one NUMA node, so returning NUMA node zero\n",
      "2023-01-30 14:58:40.315724: I tensorflow/stream_executor/cuda/cuda_gpu_executor.cc:937] successful NUMA node read from SysFS had negative value (-1), but there must be at least one NUMA node, so returning NUMA node zero\n",
      "2023-01-30 14:58:40.317597: I tensorflow/core/platform/cpu_feature_guard.cc:142] This TensorFlow binary is optimized with oneAPI Deep Neural Network Library (oneDNN) to use the following CPU instructions in performance-critical operations:  AVX2 AVX512F FMA\n",
      "To enable them in other operations, rebuild TensorFlow with the appropriate compiler flags.\n",
      "2023-01-30 14:58:40.578414: I tensorflow/stream_executor/cuda/cuda_gpu_executor.cc:937] successful NUMA node read from SysFS had negative value (-1), but there must be at least one NUMA node, so returning NUMA node zero\n",
      "2023-01-30 14:58:40.579310: I tensorflow/stream_executor/cuda/cuda_gpu_executor.cc:937] successful NUMA node read from SysFS had negative value (-1), but there must be at least one NUMA node, so returning NUMA node zero\n",
      "2023-01-30 14:58:40.580063: I tensorflow/stream_executor/cuda/cuda_gpu_executor.cc:937] successful NUMA node read from SysFS had negative value (-1), but there must be at least one NUMA node, so returning NUMA node zero\n",
      "2023-01-30 14:58:40.580787: I tensorflow/stream_executor/cuda/cuda_gpu_executor.cc:937] successful NUMA node read from SysFS had negative value (-1), but there must be at least one NUMA node, so returning NUMA node zero\n",
      "2023-01-30 14:58:40.581491: I tensorflow/stream_executor/cuda/cuda_gpu_executor.cc:937] successful NUMA node read from SysFS had negative value (-1), but there must be at least one NUMA node, so returning NUMA node zero\n",
      "2023-01-30 14:58:40.582200: I tensorflow/stream_executor/cuda/cuda_gpu_executor.cc:937] successful NUMA node read from SysFS had negative value (-1), but there must be at least one NUMA node, so returning NUMA node zero\n",
      "2023-01-30 14:58:43.161865: I tensorflow/stream_executor/cuda/cuda_gpu_executor.cc:937] successful NUMA node read from SysFS had negative value (-1), but there must be at least one NUMA node, so returning NUMA node zero\n",
      "2023-01-30 14:58:43.162913: I tensorflow/stream_executor/cuda/cuda_gpu_executor.cc:937] successful NUMA node read from SysFS had negative value (-1), but there must be at least one NUMA node, so returning NUMA node zero\n",
      "2023-01-30 14:58:43.163708: I tensorflow/stream_executor/cuda/cuda_gpu_executor.cc:937] successful NUMA node read from SysFS had negative value (-1), but there must be at least one NUMA node, so returning NUMA node zero\n",
      "2023-01-30 14:58:43.164492: I tensorflow/stream_executor/cuda/cuda_gpu_executor.cc:937] successful NUMA node read from SysFS had negative value (-1), but there must be at least one NUMA node, so returning NUMA node zero\n",
      "2023-01-30 14:58:43.165305: I tensorflow/stream_executor/cuda/cuda_gpu_executor.cc:937] successful NUMA node read from SysFS had negative value (-1), but there must be at least one NUMA node, so returning NUMA node zero\n",
      "2023-01-30 14:58:43.165985: I tensorflow/core/common_runtime/gpu/gpu_device.cc:1510] Created device /job:localhost/replica:0/task:0/device:GPU:0 with 13789 MB memory:  -> device: 0, name: Tesla T4, pci bus id: 0000:00:04.0, compute capability: 7.5\n",
      "2023-01-30 14:58:43.169214: I tensorflow/stream_executor/cuda/cuda_gpu_executor.cc:937] successful NUMA node read from SysFS had negative value (-1), but there must be at least one NUMA node, so returning NUMA node zero\n",
      "2023-01-30 14:58:43.170020: I tensorflow/core/common_runtime/gpu/gpu_device.cc:1510] Created device /job:localhost/replica:0/task:0/device:GPU:1 with 13789 MB memory:  -> device: 1, name: Tesla T4, pci bus id: 0000:00:05.0, compute capability: 7.5\n"
     ]
    },
    {
     "name": "stdout",
     "output_type": "stream",
     "text": [
      "Model: \"sequential\"\n",
      "_________________________________________________________________\n",
      "Layer (type)                 Output Shape              Param #   \n",
      "=================================================================\n",
      "conv2d (Conv2D)              (None, 28, 28, 64)        320       \n",
      "_________________________________________________________________\n",
      "max_pooling2d (MaxPooling2D) (None, 14, 14, 64)        0         \n",
      "_________________________________________________________________\n",
      "dropout (Dropout)            (None, 14, 14, 64)        0         \n",
      "_________________________________________________________________\n",
      "conv2d_1 (Conv2D)            (None, 14, 14, 32)        8224      \n",
      "_________________________________________________________________\n",
      "max_pooling2d_1 (MaxPooling2 (None, 7, 7, 32)          0         \n",
      "_________________________________________________________________\n",
      "dropout_1 (Dropout)          (None, 7, 7, 32)          0         \n",
      "_________________________________________________________________\n",
      "flatten (Flatten)            (None, 1568)              0         \n",
      "_________________________________________________________________\n",
      "dense (Dense)                (None, 256)               401664    \n",
      "_________________________________________________________________\n",
      "dropout_2 (Dropout)          (None, 256)               0         \n",
      "_________________________________________________________________\n",
      "dense_1 (Dense)              (None, 10)                2570      \n",
      "=================================================================\n",
      "Total params: 412,778\n",
      "Trainable params: 412,778\n",
      "Non-trainable params: 0\n",
      "_________________________________________________________________\n"
     ]
    }
   ],
   "source": [
    "model = tf.keras.Sequential()\n",
    "model.add(Conv2D(filters=64, kernel_size=2, padding='same', activation='relu', input_shape=(28,28,1)))  #Etapa de convolucion.\n",
    "model.add(MaxPooling2D(pool_size=2))\n",
    "model.add(Dropout(0.3))  #capa para reducir el overfiting\n",
    "model.add(Conv2D(filters=32, kernel_size=2, padding='same', activation='relu')) #Etapa de convolucion pero sin input shape, ya que esto lo da la capa anterior\n",
    "model.add(MaxPooling2D(pool_size=2))\n",
    "model.add(Dropout(0.3))\n",
    "model.add(Flatten()) #aplana la matriz o tensor para que queden en serie\n",
    "model.add(Dense(256, activation='relu'))\n",
    "model.add(Dropout(0.5))\n",
    "model.add(Dense(10, activation='softmax')) #Esta capa es de 10 porque son 10 posibles salidas\n",
    "model.summary()"
   ]
  },
  {
   "cell_type": "markdown",
   "id": "d134ee56",
   "metadata": {
    "papermill": {
     "duration": 0.007361,
     "end_time": "2023-01-30T14:58:43.757166",
     "exception": false,
     "start_time": "2023-01-30T14:58:43.749805",
     "status": "completed"
    },
    "tags": []
   },
   "source": [
    "Ya tenemos el modelo de la red convolucional.\n",
    "Ahora se va a compilar y entrenar la red neuronal convolucional"
   ]
  },
  {
   "cell_type": "code",
   "execution_count": 9,
   "id": "47de24de",
   "metadata": {
    "execution": {
     "iopub.execute_input": "2023-01-30T14:58:43.771972Z",
     "iopub.status.busy": "2023-01-30T14:58:43.771641Z",
     "iopub.status.idle": "2023-01-30T14:58:43.783642Z",
     "shell.execute_reply": "2023-01-30T14:58:43.782770Z"
    },
    "papermill": {
     "duration": 0.02171,
     "end_time": "2023-01-30T14:58:43.785780",
     "exception": false,
     "start_time": "2023-01-30T14:58:43.764070",
     "status": "completed"
    },
    "tags": []
   },
   "outputs": [],
   "source": [
    "model.compile(loss='categorical_crossentropy',  #Categorical porque tiene mas de 2 posibles salidas. 10\n",
    "             optimizer = 'rmsprop',\n",
    "             metrics=['accuracy']\n",
    "             ) "
   ]
  },
  {
   "cell_type": "code",
   "execution_count": 10,
   "id": "5b96a019",
   "metadata": {
    "execution": {
     "iopub.execute_input": "2023-01-30T14:58:43.800872Z",
     "iopub.status.busy": "2023-01-30T14:58:43.799987Z",
     "iopub.status.idle": "2023-01-30T14:59:35.878271Z",
     "shell.execute_reply": "2023-01-30T14:59:35.877231Z"
    },
    "papermill": {
     "duration": 52.088279,
     "end_time": "2023-01-30T14:59:35.880592",
     "exception": false,
     "start_time": "2023-01-30T14:58:43.792313",
     "status": "completed"
    },
    "tags": []
   },
   "outputs": [
    {
     "name": "stderr",
     "output_type": "stream",
     "text": [
      "2023-01-30 14:58:44.321800: I tensorflow/compiler/mlir/mlir_graph_optimization_pass.cc:185] None of the MLIR Optimization Passes are enabled (registered 2)\n"
     ]
    },
    {
     "name": "stdout",
     "output_type": "stream",
     "text": [
      "Epoch 1/10\n"
     ]
    },
    {
     "name": "stderr",
     "output_type": "stream",
     "text": [
      "2023-01-30 14:58:46.550632: I tensorflow/stream_executor/cuda/cuda_dnn.cc:369] Loaded cuDNN version 8005\n"
     ]
    },
    {
     "name": "stdout",
     "output_type": "stream",
     "text": [
      "938/938 [==============================] - 13s 5ms/step - loss: 0.5867 - accuracy: 0.7871\n",
      "Epoch 2/10\n",
      "938/938 [==============================] - 4s 4ms/step - loss: 0.3977 - accuracy: 0.8581\n",
      "Epoch 3/10\n",
      "938/938 [==============================] - 4s 4ms/step - loss: 0.3566 - accuracy: 0.8721\n",
      "Epoch 4/10\n",
      "938/938 [==============================] - 4s 5ms/step - loss: 0.3338 - accuracy: 0.8813\n",
      "Epoch 5/10\n",
      "938/938 [==============================] - 4s 4ms/step - loss: 0.3251 - accuracy: 0.8845\n",
      "Epoch 6/10\n",
      "938/938 [==============================] - 5s 5ms/step - loss: 0.3160 - accuracy: 0.8896\n",
      "Epoch 7/10\n",
      "938/938 [==============================] - 4s 5ms/step - loss: 0.3151 - accuracy: 0.8901\n",
      "Epoch 8/10\n",
      "938/938 [==============================] - 4s 4ms/step - loss: 0.3140 - accuracy: 0.8896\n",
      "Epoch 9/10\n",
      "938/938 [==============================] - 4s 5ms/step - loss: 0.3118 - accuracy: 0.8903\n",
      "Epoch 10/10\n",
      "938/938 [==============================] - 4s 4ms/step - loss: 0.3146 - accuracy: 0.8910\n"
     ]
    }
   ],
   "source": [
    "history = model.fit(train_images, \n",
    "                    train_labels, \n",
    "                    batch_size = 64, \n",
    "                    epochs = 10)"
   ]
  },
  {
   "cell_type": "code",
   "execution_count": 11,
   "id": "937f051e",
   "metadata": {
    "execution": {
     "iopub.execute_input": "2023-01-30T14:59:35.986392Z",
     "iopub.status.busy": "2023-01-30T14:59:35.984935Z",
     "iopub.status.idle": "2023-01-30T14:59:37.434942Z",
     "shell.execute_reply": "2023-01-30T14:59:37.433587Z"
    },
    "papermill": {
     "duration": 1.503438,
     "end_time": "2023-01-30T14:59:37.437545",
     "exception": false,
     "start_time": "2023-01-30T14:59:35.934107",
     "status": "completed"
    },
    "tags": []
   },
   "outputs": [],
   "source": [
    "score = model.evaluate(test_images, test_labels, verbose=0)"
   ]
  },
  {
   "cell_type": "code",
   "execution_count": 12,
   "id": "bae59ca7",
   "metadata": {
    "execution": {
     "iopub.execute_input": "2023-01-30T14:59:37.542878Z",
     "iopub.status.busy": "2023-01-30T14:59:37.542446Z",
     "iopub.status.idle": "2023-01-30T14:59:37.550180Z",
     "shell.execute_reply": "2023-01-30T14:59:37.547997Z"
    },
    "papermill": {
     "duration": 0.062223,
     "end_time": "2023-01-30T14:59:37.552186",
     "exception": false,
     "start_time": "2023-01-30T14:59:37.489963",
     "status": "completed"
    },
    "tags": []
   },
   "outputs": [
    {
     "data": {
      "text/plain": [
       "[286.6859130859375, 0.6453999876976013]"
      ]
     },
     "execution_count": 12,
     "metadata": {},
     "output_type": "execute_result"
    }
   ],
   "source": [
    "score"
   ]
  },
  {
   "cell_type": "markdown",
   "id": "19550aad",
   "metadata": {
    "papermill": {
     "duration": 0.049889,
     "end_time": "2023-01-30T14:59:37.652495",
     "exception": false,
     "start_time": "2023-01-30T14:59:37.602606",
     "status": "completed"
    },
    "tags": []
   },
   "source": [
    "**CALLBACKS**\n",
    "\n",
    "Son una herramienta de las redes neuronales para controlar su entrenamiento"
   ]
  },
  {
   "cell_type": "markdown",
   "id": "fab70cf7",
   "metadata": {
    "papermill": {
     "duration": 0.051924,
     "end_time": "2023-01-30T14:59:37.757595",
     "exception": false,
     "start_time": "2023-01-30T14:59:37.705671",
     "status": "completed"
    },
    "tags": []
   },
   "source": [
    "**Early Stopping:**\n",
    "\n",
    "Tenemos una red que ha dejado de optimizar el accuracy o metrica. Si la metrica no empieza a subir. Consiste en detener el entrenamiento una vez la metrica comienza a bajar, es decir el patience. En este caso lo hacemos con 1 sola epoca"
   ]
  },
  {
   "cell_type": "code",
   "execution_count": 13,
   "id": "d5bf35ae",
   "metadata": {
    "collapsed": true,
    "execution": {
     "iopub.execute_input": "2023-01-30T14:59:37.859348Z",
     "iopub.status.busy": "2023-01-30T14:59:37.858953Z",
     "iopub.status.idle": "2023-01-30T14:59:46.770794Z",
     "shell.execute_reply": "2023-01-30T14:59:46.769804Z"
    },
    "jupyter": {
     "outputs_hidden": true
    },
    "papermill": {
     "duration": 8.96469,
     "end_time": "2023-01-30T14:59:46.772879",
     "exception": false,
     "start_time": "2023-01-30T14:59:37.808189",
     "status": "completed"
    },
    "tags": []
   },
   "outputs": [
    {
     "name": "stdout",
     "output_type": "stream",
     "text": [
      "Epoch 1/10\n",
      "938/938 [==============================] - 4s 5ms/step - loss: 0.3138 - accuracy: 0.8917\n",
      "Epoch 2/10\n",
      "938/938 [==============================] - 4s 4ms/step - loss: 0.3127 - accuracy: 0.8908\n"
     ]
    },
    {
     "data": {
      "text/plain": [
       "<keras.callbacks.History at 0x7f17c02a20d0>"
      ]
     },
     "execution_count": 13,
     "metadata": {},
     "output_type": "execute_result"
    }
   ],
   "source": [
    "early = tf.keras.callbacks.EarlyStopping(monitor = 'accuracy', patience = 1)\n",
    "\n",
    "model.fit(train_images, \n",
    "          train_labels, \n",
    "          batch_size = 64, \n",
    "          callbacks=[early],\n",
    "          epochs = 10)"
   ]
  },
  {
   "cell_type": "markdown",
   "id": "413d06cf",
   "metadata": {
    "papermill": {
     "duration": 0.10296,
     "end_time": "2023-01-30T14:59:46.968674",
     "exception": false,
     "start_time": "2023-01-30T14:59:46.865714",
     "status": "completed"
    },
    "tags": []
   },
   "source": [
    "**Checkpoint:**\n",
    "\n",
    "Es otro tipo de callback que consiste en que se va a ejecutar totalmente la red con las epocas y el entrenamiento, pero en ese archivo se va a guardar los pesos de la red neuronal que tuvieron un mejor accuracy (o la metrica que se mida)"
   ]
  },
  {
   "cell_type": "code",
   "execution_count": 14,
   "id": "31c4a9ef",
   "metadata": {
    "collapsed": true,
    "execution": {
     "iopub.execute_input": "2023-01-30T14:59:47.149407Z",
     "iopub.status.busy": "2023-01-30T14:59:47.148922Z",
     "iopub.status.idle": "2023-01-30T15:00:29.895797Z",
     "shell.execute_reply": "2023-01-30T15:00:29.894056Z"
    },
    "jupyter": {
     "outputs_hidden": true
    },
    "papermill": {
     "duration": 42.843518,
     "end_time": "2023-01-30T15:00:29.898570",
     "exception": false,
     "start_time": "2023-01-30T14:59:47.055052",
     "status": "completed"
    },
    "tags": []
   },
   "outputs": [
    {
     "name": "stdout",
     "output_type": "stream",
     "text": [
      "Epoch 1/10\n",
      "938/938 [==============================] - 4s 5ms/step - loss: 0.3156 - accuracy: 0.8902\n",
      "\n",
      "Epoch 00001: accuracy improved from -inf to 0.89020, saving model to mi_primera_red_conv.hdf5\n",
      "Epoch 2/10\n",
      "938/938 [==============================] - 4s 4ms/step - loss: 0.3160 - accuracy: 0.8921\n",
      "\n",
      "Epoch 00002: accuracy improved from 0.89020 to 0.89215, saving model to mi_primera_red_conv.hdf5\n",
      "Epoch 3/10\n",
      "938/938 [==============================] - 4s 4ms/step - loss: 0.3210 - accuracy: 0.8915\n",
      "\n",
      "Epoch 00003: accuracy did not improve from 0.89215\n",
      "Epoch 4/10\n",
      "938/938 [==============================] - 4s 5ms/step - loss: 0.3203 - accuracy: 0.8886\n",
      "\n",
      "Epoch 00004: accuracy did not improve from 0.89215\n",
      "Epoch 5/10\n",
      "938/938 [==============================] - 4s 4ms/step - loss: 0.3234 - accuracy: 0.8887\n",
      "\n",
      "Epoch 00005: accuracy did not improve from 0.89215\n",
      "Epoch 6/10\n",
      "938/938 [==============================] - 4s 4ms/step - loss: 0.3240 - accuracy: 0.8894\n",
      "\n",
      "Epoch 00006: accuracy did not improve from 0.89215\n",
      "Epoch 7/10\n",
      "938/938 [==============================] - 4s 5ms/step - loss: 0.3281 - accuracy: 0.8884\n",
      "\n",
      "Epoch 00007: accuracy did not improve from 0.89215\n",
      "Epoch 8/10\n",
      "938/938 [==============================] - 5s 5ms/step - loss: 0.3285 - accuracy: 0.8881\n",
      "\n",
      "Epoch 00008: accuracy did not improve from 0.89215\n",
      "Epoch 9/10\n",
      "938/938 [==============================] - 4s 5ms/step - loss: 0.3286 - accuracy: 0.8881\n",
      "\n",
      "Epoch 00009: accuracy did not improve from 0.89215\n",
      "Epoch 10/10\n",
      "938/938 [==============================] - 4s 4ms/step - loss: 0.3313 - accuracy: 0.8872\n",
      "\n",
      "Epoch 00010: accuracy did not improve from 0.89215\n"
     ]
    },
    {
     "data": {
      "text/plain": [
       "<keras.callbacks.History at 0x7f17c04a97d0>"
      ]
     },
     "execution_count": 14,
     "metadata": {},
     "output_type": "execute_result"
    }
   ],
   "source": [
    "checkpoint = tf.keras.callbacks.ModelCheckpoint(filepath='mi_primera_red_conv.hdf5',\n",
    "                                  verbose=1,\n",
    "                                  monitor='accuracy',\n",
    "                                  save_best_only=True)\n",
    "model.fit(train_images, \n",
    "          train_labels, \n",
    "          batch_size = 64, \n",
    "          callbacks=[checkpoint], #se pueden combinar ambos callbacks\n",
    "          epochs = 10)"
   ]
  },
  {
   "cell_type": "code",
   "execution_count": 15,
   "id": "d0a83850",
   "metadata": {
    "execution": {
     "iopub.execute_input": "2023-01-30T15:00:30.111336Z",
     "iopub.status.busy": "2023-01-30T15:00:30.110291Z",
     "iopub.status.idle": "2023-01-30T15:00:30.126833Z",
     "shell.execute_reply": "2023-01-30T15:00:30.125873Z"
    },
    "papermill": {
     "duration": 0.125816,
     "end_time": "2023-01-30T15:00:30.129311",
     "exception": false,
     "start_time": "2023-01-30T15:00:30.003495",
     "status": "completed"
    },
    "tags": []
   },
   "outputs": [],
   "source": [
    "model2 = model\n",
    "model2.load_weights('./mi_primera_red_conv.hdf5') #Cargando pesos encontrados en el modelo anterior con el callback"
   ]
  },
  {
   "cell_type": "code",
   "execution_count": 16,
   "id": "5c04b524",
   "metadata": {
    "execution": {
     "iopub.execute_input": "2023-01-30T15:00:30.345454Z",
     "iopub.status.busy": "2023-01-30T15:00:30.345030Z",
     "iopub.status.idle": "2023-01-30T15:00:31.158927Z",
     "shell.execute_reply": "2023-01-30T15:00:31.158124Z"
    },
    "papermill": {
     "duration": 0.924311,
     "end_time": "2023-01-30T15:00:31.160962",
     "exception": false,
     "start_time": "2023-01-30T15:00:30.236651",
     "status": "completed"
    },
    "tags": []
   },
   "outputs": [
    {
     "name": "stdout",
     "output_type": "stream",
     "text": [
      "313/313 [==============================] - 1s 2ms/step - loss: 862.2276 - accuracy: 0.4569\n"
     ]
    },
    {
     "data": {
      "text/plain": [
       "[862.2276000976562, 0.4569000005722046]"
      ]
     },
     "execution_count": 16,
     "metadata": {},
     "output_type": "execute_result"
    }
   ],
   "source": [
    "model2.evaluate(test_images, test_labels)"
   ]
  },
  {
   "cell_type": "code",
   "execution_count": 17,
   "id": "3d38bc57",
   "metadata": {
    "execution": {
     "iopub.execute_input": "2023-01-30T15:00:31.370041Z",
     "iopub.status.busy": "2023-01-30T15:00:31.368911Z",
     "iopub.status.idle": "2023-01-30T15:00:31.598227Z",
     "shell.execute_reply": "2023-01-30T15:00:31.597257Z"
    },
    "papermill": {
     "duration": 0.335548,
     "end_time": "2023-01-30T15:00:31.600648",
     "exception": false,
     "start_time": "2023-01-30T15:00:31.265100",
     "status": "completed"
    },
    "tags": []
   },
   "outputs": [
    {
     "data": {
      "image/png": "[encoded data removed]",
      "text/plain": [
       "<Figure size 720x720 with 1 Axes>"
      ]
     },
     "metadata": {
      "needs_background": "light"
     },
     "output_type": "display_data"
    }
   ],
   "source": [
    "import matplotlib.pyplot as plt\n",
    "\n",
    "history_dict = history.history\n",
    "loss_values = history_dict['accuracy']\n",
    "\n",
    "fig = plt.figure(figsize=(10,10))\n",
    "epoch = range(1,len(loss_values) + 1)\n",
    "plt.plot(epoch, loss_values, '-', label = 'accuracy')\n",
    "plt.legend()\n",
    "plt.show()"
   ]
  }
 ],
 "metadata": {
  "kernelspec": {
   "display_name": "Python 3",
   "language": "python",
   "name": "python3"
  },
  "language_info": {
   "codemirror_mode": {
    "name": "ipython",
    "version": 3
   },
   "file_extension": ".py",
   "mimetype": "text/x-python",
   "name": "python",
   "nbconvert_exporter": "python",
   "pygments_lexer": "ipython3",
   "version": "3.7.12"
  },
  "papermill": {
   "default_parameters": {},
   "duration": 130.455447,
   "end_time": "2023-01-30T15:00:35.598438",
   "environment_variables": {},
   "exception": null,
   "input_path": "__notebook__.ipynb",
   "output_path": "__notebook__.ipynb",
   "parameters": {},
   "start_time": "2023-01-30T14:58:25.142991",
   "version": "2.3.4"
  }
 },
 "nbformat": 4,
 "nbformat_minor": 5
}
